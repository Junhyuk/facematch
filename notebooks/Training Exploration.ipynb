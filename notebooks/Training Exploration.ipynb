{
 "cells": [
  {
   "cell_type": "code",
   "execution_count": 56,
   "metadata": {
    "collapsed": false
   },
   "outputs": [],
   "source": [
    "import os\n",
    "import click\n",
    "import logging\n",
    "from dotenv import find_dotenv, load_dotenv\n",
    "\n",
    "import pandas as pd\n",
    "import numpy as np\n",
    "from keras.preprocessing.image import ImageDataGenerator\n",
    "from keras.models import Sequential\n",
    "from keras.layers import Dropout, Flatten, Dense\n",
    "from keras import applications\n",
    "from keras.utils import np_utils\n",
    "from keras import optimizers\n",
    "\n",
    "from pathlib import Path\n",
    "from PIL import Image"
   ]
  },
  {
   "cell_type": "code",
   "execution_count": 11,
   "metadata": {
    "collapsed": false
   },
   "outputs": [],
   "source": [
    "bottleneck_features_path = '../data/interim/'\n",
    "output_filepath = '../models/fer2013-01/'\n",
    "top_model_weights_path = output_filepath + '/bottleneck_weights_model.h5'\n",
    "top_model_path = output_filepath + '/bottleneck_model.h5'\n",
    "nb_train_samples = 1852\n",
    "nb_validation_samples = 468\n",
    "nb_classes = 7\n",
    "epochs = 2\n",
    "batch_size = 16"
   ]
  },
  {
   "cell_type": "code",
   "execution_count": 12,
   "metadata": {
    "collapsed": false
   },
   "outputs": [],
   "source": [
    "train_data = np.load(open(bottleneck_features_path + 'bottleneck_features_train.npy', 'rb'))"
   ]
  },
  {
   "cell_type": "code",
   "execution_count": 14,
   "metadata": {
    "collapsed": false
   },
   "outputs": [],
   "source": [
    "train_data_len = len(train_data)\n",
    "train_labels_not_encoded = np.array(\n",
    "    [0] * (nb_train_samples // nb_classes) +\n",
    "    [1] * (nb_train_samples // nb_classes) +\n",
    "    [2] * (nb_train_samples // nb_classes) +\n",
    "    [3] * (nb_train_samples // nb_classes) +\n",
    "    [4] * (nb_train_samples // nb_classes) +\n",
    "    [5] * (nb_train_samples // nb_classes) +\n",
    "    [6] * (nb_train_samples // nb_classes))\n",
    "train_labels = np_utils.to_categorical(train_labels_not_encoded)\n",
    "train_labels = train_labels[0:train_data_len]"
   ]
  },
  {
   "cell_type": "code",
   "execution_count": 16,
   "metadata": {
    "collapsed": false
   },
   "outputs": [
    {
     "data": {
      "text/plain": [
       "(1840, 7)"
      ]
     },
     "execution_count": 16,
     "metadata": {},
     "output_type": "execute_result"
    }
   ],
   "source": [
    "train_labels.shape"
   ]
  },
  {
   "cell_type": "code",
   "execution_count": 17,
   "metadata": {
    "collapsed": false
   },
   "outputs": [
    {
     "data": {
      "text/plain": [
       "(1840, 1, 1, 512)"
      ]
     },
     "execution_count": 17,
     "metadata": {},
     "output_type": "execute_result"
    }
   ],
   "source": [
    "train_data.shape"
   ]
  },
  {
   "cell_type": "code",
   "execution_count": 58,
   "metadata": {
    "collapsed": false
   },
   "outputs": [],
   "source": [
    "opt = optimizers.SGD(lr=0.01, momentum=0.0, decay=0.0, nesterov=False)"
   ]
  },
  {
   "cell_type": "markdown",
   "metadata": {},
   "source": [
    "## Initial images Grayscale to RGB"
   ]
  },
  {
   "cell_type": "code",
   "execution_count": 21,
   "metadata": {
    "collapsed": true
   },
   "outputs": [],
   "source": [
    "img_path = '../data/processed/fer2013/all/train/angry/0000.jpg'\n",
    "# img_path = '../data/processed/fer2013/all/train/angry/0000.jpg'"
   ]
  },
  {
   "cell_type": "code",
   "execution_count": 35,
   "metadata": {
    "collapsed": false
   },
   "outputs": [],
   "source": [
    "from keras.preprocessing.image import ImageDataGenerator, array_to_img, img_to_array, load_img\n",
    "\n",
    "datagen = ImageDataGenerator(\n",
    "        rotation_range=10,\n",
    "        width_shift_range=0.2,\n",
    "        height_shift_range=0.2,\n",
    "        shear_range=0.2,\n",
    "        zoom_range=0.2,\n",
    "        horizontal_flip=True,\n",
    "        fill_mode='nearest')"
   ]
  },
  {
   "cell_type": "code",
   "execution_count": 37,
   "metadata": {
    "collapsed": false
   },
   "outputs": [],
   "source": [
    "img = load_img(img_path)  # this is a PIL image\n",
    "x = img_to_array(img)  # this is a Numpy array with shape (3, 150, 150)\n",
    "x = x.reshape((1,) + x.shape)  # this is a Numpy array with shape (1, 3, 150, 150)\n",
    "\n",
    "# the .flow() command below generates batches of randomly transformed images\n",
    "# and saves the results to the `preview/` directory\n",
    "i = 0\n",
    "for batch in datagen.flow(x, batch_size=1,\n",
    "                          save_to_dir='../data/interim/preview', save_prefix='pic', save_format='jpeg'):\n",
    "    i += 1\n",
    "    if i > 9:\n",
    "        break  # otherwise the generator would loop indefinitely"
   ]
  },
  {
   "cell_type": "code",
   "execution_count": 45,
   "metadata": {
    "collapsed": false
   },
   "outputs": [],
   "source": [
    "img1 = x[0]"
   ]
  },
  {
   "cell_type": "code",
   "execution_count": 48,
   "metadata": {
    "collapsed": false
   },
   "outputs": [
    {
     "data": {
      "text/plain": [
       "array([[  74.,   77.,   78., ...,   53.,   44.,   40.],\n",
       "       [  60.,   60.,   60., ...,   55.,   51.,   46.],\n",
       "       [  48.,   53.,   59., ...,   50.,   51.,   46.],\n",
       "       ..., \n",
       "       [  85.,   69.,   48., ...,   82.,   58.,   39.],\n",
       "       [  81.,   83.,   78., ...,   97.,   71.,   43.],\n",
       "       [  76.,   77.,   82., ...,  111.,  105.,   84.]], dtype=float32)"
      ]
     },
     "execution_count": 48,
     "metadata": {},
     "output_type": "execute_result"
    }
   ],
   "source": [
    "img1[:,:,0]"
   ]
  },
  {
   "cell_type": "code",
   "execution_count": 49,
   "metadata": {
    "collapsed": false
   },
   "outputs": [
    {
     "data": {
      "text/plain": [
       "array([[  74.,   77.,   78., ...,   53.,   44.,   40.],\n",
       "       [  60.,   60.,   60., ...,   55.,   51.,   46.],\n",
       "       [  48.,   53.,   59., ...,   50.,   51.,   46.],\n",
       "       ..., \n",
       "       [  85.,   69.,   48., ...,   82.,   58.,   39.],\n",
       "       [  81.,   83.,   78., ...,   97.,   71.,   43.],\n",
       "       [  76.,   77.,   82., ...,  111.,  105.,   84.]], dtype=float32)"
      ]
     },
     "execution_count": 49,
     "metadata": {},
     "output_type": "execute_result"
    }
   ],
   "source": [
    "img1[:,:,1]"
   ]
  },
  {
   "cell_type": "code",
   "execution_count": 50,
   "metadata": {
    "collapsed": false
   },
   "outputs": [
    {
     "data": {
      "text/plain": [
       "array([[  74.,   77.,   78., ...,   53.,   44.,   40.],\n",
       "       [  60.,   60.,   60., ...,   55.,   51.,   46.],\n",
       "       [  48.,   53.,   59., ...,   50.,   51.,   46.],\n",
       "       ..., \n",
       "       [  85.,   69.,   48., ...,   82.,   58.,   39.],\n",
       "       [  81.,   83.,   78., ...,   97.,   71.,   43.],\n",
       "       [  76.,   77.,   82., ...,  111.,  105.,   84.]], dtype=float32)"
      ]
     },
     "execution_count": 50,
     "metadata": {},
     "output_type": "execute_result"
    }
   ],
   "source": [
    "img1[:,:,2]"
   ]
  },
  {
   "cell_type": "code",
   "execution_count": null,
   "metadata": {
    "collapsed": true
   },
   "outputs": [],
   "source": []
  }
 ],
 "metadata": {
  "anaconda-cloud": {},
  "kernelspec": {
   "display_name": "Python [conda env:facematch]",
   "language": "python",
   "name": "conda-env-facematch-py"
  },
  "language_info": {
   "codemirror_mode": {
    "name": "ipython",
    "version": 3
   },
   "file_extension": ".py",
   "mimetype": "text/x-python",
   "name": "python",
   "nbconvert_exporter": "python",
   "pygments_lexer": "ipython3",
   "version": "3.6.1"
  }
 },
 "nbformat": 4,
 "nbformat_minor": 1
}
